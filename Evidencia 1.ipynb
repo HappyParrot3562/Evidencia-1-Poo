{
 "cells": [
  {
   "cell_type": "code",
   "execution_count": 2,
   "metadata": {},
   "outputs": [],
   "source": [
    "class Producto:\n",
    "    objetos = []\n",
    "\n",
    "    def __init__(self, name, tp, pricet, id, inv):\n",
    "        pricet = float(pricet)\n",
    "        tp = str(tp)\n",
    "        Producto.objetos.append(self)\n",
    "        if not (pricet > 0):\n",
    "            raise ValueError(\"El precio debe ser positivo\")\n",
    "        match tp:\n",
    "            case \"Comida\":\n",
    "                self.priceP = pricet * 1.1\n",
    "            case \"Bebida\":\n",
    "                self.priceP = pricet * 1.1\n",
    "            case \"Medicina\":\n",
    "                self.priceP = pricet * 1.5\n",
    "            case \"Otro\":\n",
    "                self.priceP = pricet * 1.3\n",
    "            case _:\n",
    "                raise ValueError(\"El tipo tiene que ser comida, bebida, medicina o ser especificado como otro\")\n",
    "        self.nombre = name\n",
    "        self.inventario = inv\n",
    "        self.id = id\n",
    "        self.pt = pricet\n",
    "        self.tipo = tp\n"
   ]
  },
  {
   "cell_type": "code",
   "execution_count": 3,
   "metadata": {},
   "outputs": [],
   "source": [
    "Galletas = Producto(\"Galletas\", \"Comida\", 23.0, \"A123\", 20)\n",
    "chips = Producto(\"Papas fritas\", \"Comida\", 26.0, \"P567Q\", 25)\n",
    "Refresco = Producto(\"Refresco\", \"Bebida\", 13.0, \"B456\", 30)\n",
    "WMineral = Producto(\"Agua Mineral\", \"Bebida\", 15.0, \"B789X\", 15)\n",
    "Aspirina = Producto(\"Aspirina\", \"Medicina\", 30.0, \"C789\", 20)\n",
    "Paracetamol = Producto(\"Paracetamol\", \"Medicina\", 30.0, \"M456Y\", 35)\n",
    "Rastrillo = Producto(\"Rastrillo\", \"Otro\", 60.0, \"D012\", 15)\n",
    "papel = Producto(\"Papel higiénico\", \"Otro\", 30.0, \"O123Z\", 25)\n",
    "\n",
    "Database = {\"Galletas\": Galletas, \"Papas fritas\": chips, \"Refresco\": Refresco, \"Agua Mineral\": WMineral,\n",
    "            \"Aspirina\": Aspirina, \"Paracetamol\": Paracetamol, \"Rastrillo\": Rastrillo, \"Papel higiénico\": papel}"
   ]
  },
  {
   "cell_type": "code",
   "execution_count": 4,
   "metadata": {},
   "outputs": [
    {
     "name": "stdout",
     "output_type": "stream",
     "text": [
      "Bienvenido al OXXO\n",
      "Recuerda escribir correctamente el nombre del articulo o su ID exacto\n",
      "\n",
      "Galletas 25.3 \n",
      "\n",
      "Papas fritas 28.6 \n",
      "\n",
      "Galletas 25.3 \n",
      "\n",
      "\n",
      "Recibo:\n",
      "Productos Totales: 3\n",
      "1 Galletas 25.3\n",
      "2 Papas fritas 28.6\n",
      "3 Galletas 25.3\n",
      "\n",
      "Total a pagar: 79.2\n",
      "¡¡Gracias por su compra!!\n"
     ]
    }
   ],
   "source": [
    "print(\"Bienvenido al OXXO\")\n",
    "print(\"Recuerda escribir correctamente el nombre del articulo o su ID exacto\\n\")\n",
    "shopcar = 0\n",
    "shoplist = []\n",
    "t = 0\n",
    "\n",
    "\n",
    "while True:\n",
    "    encontrado = False\n",
    "    choose = input(\"Ingrese el nombre o ID del producto: \")\n",
    "    if choose == \"F\":\n",
    "        lenght = len(shoplist)\n",
    "        e = 1\n",
    "        i = 0\n",
    "        print(\"\\nRecibo:\")\n",
    "        print(\"Productos Totales:\", t)\n",
    "        while i < lenght:\n",
    "            print(e, shoplist[i][\"Nombre\"], shoplist[i][\"Precio\"])\n",
    "            i += 1\n",
    "            e += 1\n",
    "        print(\"\\nTotal a pagar:\", shopcar)\n",
    "        break\n",
    "    else:\n",
    "        for objetos in Database.values():\n",
    "            if choose == objetos.nombre or choose == objetos.nombre.lower() or choose == objetos.id:\n",
    "                if objetos.inventario == 0:\n",
    "                    print(\"NO HAY STOCK\\n\")\n",
    "                else:\n",
    "                    print(objetos.nombre, objetos.priceP, \"\\n\")\n",
    "                    objetos.inventario -= 1\n",
    "                    shopcar += objetos.priceP\n",
    "                    t += 1\n",
    "                    shoplist.append({\"Nombre\": objetos.nombre, \"Precio\": objetos.priceP})\n",
    "                encontrado = True\n",
    "        if not encontrado:\n",
    "            print(\"No se encontró el producto\")\n",
    "\n",
    "print(\"¡¡Gracias por su compra!!\")"
   ]
  }
 ],
 "metadata": {
  "kernelspec": {
   "display_name": "Python 3",
   "language": "python",
   "name": "python3"
  },
  "language_info": {
   "codemirror_mode": {
    "name": "ipython",
    "version": 3
   },
   "file_extension": ".py",
   "mimetype": "text/x-python",
   "name": "python",
   "nbconvert_exporter": "python",
   "pygments_lexer": "ipython3",
   "version": "3.12.2"
  }
 },
 "nbformat": 4,
 "nbformat_minor": 2
}
